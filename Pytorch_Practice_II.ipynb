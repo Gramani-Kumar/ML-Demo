{
  "nbformat": 4,
  "nbformat_minor": 0,
  "metadata": {
    "colab": {
      "name": "Pytorch Practice II",
      "provenance": [],
      "collapsed_sections": [
        "PRiiRUvRArof"
      ],
      "toc_visible": true,
      "authorship_tag": "ABX9TyPLhh9McQQJ8pPMycFGEh/z",
      "include_colab_link": true
    },
    "kernelspec": {
      "name": "python3",
      "display_name": "Python 3"
    }
  },
  "cells": [
    {
      "cell_type": "markdown",
      "metadata": {
        "id": "view-in-github",
        "colab_type": "text"
      },
      "source": [
        "<a href=\"https://colab.research.google.com/github/Gramani-Kumar/ML-Demo/blob/master/Pytorch_Practice_II.ipynb\" target=\"_parent\"><img src=\"https://colab.research.google.com/assets/colab-badge.svg\" alt=\"Open In Colab\"/></a>"
      ]
    },
    {
      "cell_type": "code",
      "metadata": {
        "id": "vvQEkHOCx9XQ",
        "colab_type": "code",
        "colab": {}
      },
      "source": [
        "import torch\n",
        "import numpy as np\n",
        "import matplotlib.pyplot as plt\n"
      ],
      "execution_count": null,
      "outputs": []
    },
    {
      "cell_type": "markdown",
      "metadata": {
        "id": "PRiiRUvRArof",
        "colab_type": "text"
      },
      "source": [
        "# New Section"
      ]
    },
    {
      "cell_type": "code",
      "metadata": {
        "id": "wTK_QY3S0-WO",
        "colab_type": "code",
        "colab": {}
      },
      "source": [
        "a = torch.ones(5,4)"
      ],
      "execution_count": null,
      "outputs": []
    },
    {
      "cell_type": "code",
      "metadata": {
        "id": "W5niwyr22e0S",
        "colab_type": "code",
        "colab": {}
      },
      "source": [
        "b = torch.zeros(5,4)"
      ],
      "execution_count": null,
      "outputs": []
    },
    {
      "cell_type": "code",
      "metadata": {
        "id": "WT6IgiH72f6J",
        "colab_type": "code",
        "colab": {}
      },
      "source": [
        "c = torch.randint_like(a, high=10)"
      ],
      "execution_count": null,
      "outputs": []
    },
    {
      "cell_type": "code",
      "metadata": {
        "id": "DdTS0_7J2ryb",
        "colab_type": "code",
        "colab": {
          "base_uri": "https://localhost:8080/",
          "height": 102
        },
        "outputId": "2b878648-7eb1-4ca1-ed96-f5468fd0083d"
      },
      "source": [
        "print(c)"
      ],
      "execution_count": null,
      "outputs": [
        {
          "output_type": "stream",
          "text": [
            "tensor([[2., 0., 1., 5.],\n",
            "        [0., 4., 2., 4.],\n",
            "        [4., 7., 3., 6.],\n",
            "        [2., 5., 4., 5.],\n",
            "        [1., 4., 9., 3.]])\n"
          ],
          "name": "stdout"
        }
      ]
    },
    {
      "cell_type": "code",
      "metadata": {
        "id": "vmHof6Qh3HdC",
        "colab_type": "code",
        "colab": {
          "base_uri": "https://localhost:8080/",
          "height": 102
        },
        "outputId": "80421be4-b128-4f85-8ad0-2f2726898503"
      },
      "source": [
        "c.numpy()"
      ],
      "execution_count": null,
      "outputs": [
        {
          "output_type": "execute_result",
          "data": {
            "text/plain": [
              "array([[2., 0., 1., 5.],\n",
              "       [0., 4., 2., 4.],\n",
              "       [4., 7., 3., 6.],\n",
              "       [2., 5., 4., 5.],\n",
              "       [1., 4., 9., 3.]], dtype=float32)"
            ]
          },
          "metadata": {
            "tags": []
          },
          "execution_count": 32
        }
      ]
    },
    {
      "cell_type": "code",
      "metadata": {
        "id": "PpZg6EmB7WXE",
        "colab_type": "code",
        "colab": {
          "base_uri": "https://localhost:8080/",
          "height": 34
        },
        "outputId": "56f6e221-5088-4c6e-da92-462632381ee4"
      },
      "source": [
        "torch.cuda.get_device_name()"
      ],
      "execution_count": null,
      "outputs": [
        {
          "output_type": "execute_result",
          "data": {
            "text/plain": [
              "'Tesla T4'"
            ]
          },
          "metadata": {
            "tags": []
          },
          "execution_count": 7
        }
      ]
    },
    {
      "cell_type": "code",
      "metadata": {
        "id": "MCYS8EV_Vy4M",
        "colab_type": "code",
        "colab": {
          "base_uri": "https://localhost:8080/",
          "height": 34
        },
        "outputId": "66e7b0eb-bcb1-4861-a32e-95ba41feea14"
      },
      "source": [
        "torch.cuda.get_device_capability()"
      ],
      "execution_count": null,
      "outputs": [
        {
          "output_type": "execute_result",
          "data": {
            "text/plain": [
              "(7, 5)"
            ]
          },
          "metadata": {
            "tags": []
          },
          "execution_count": 8
        }
      ]
    },
    {
      "cell_type": "code",
      "metadata": {
        "id": "T0vv_eaPWbU-",
        "colab_type": "code",
        "colab": {
          "base_uri": "https://localhost:8080/",
          "height": 34
        },
        "outputId": "71bc53be-41ea-4f44-ecbf-7482d4c955ae"
      },
      "source": [
        "torch.cuda.device_count()"
      ],
      "execution_count": null,
      "outputs": [
        {
          "output_type": "execute_result",
          "data": {
            "text/plain": [
              "1"
            ]
          },
          "metadata": {
            "tags": []
          },
          "execution_count": 10
        }
      ]
    },
    {
      "cell_type": "code",
      "metadata": {
        "id": "n2mZKZoLWqd6",
        "colab_type": "code",
        "colab": {
          "base_uri": "https://localhost:8080/",
          "height": 34
        },
        "outputId": "dc14d616-d66c-44cc-b353-e240120222a5"
      },
      "source": [
        "torch.cuda.get_device_properties(0)"
      ],
      "execution_count": null,
      "outputs": [
        {
          "output_type": "execute_result",
          "data": {
            "text/plain": [
              "_CudaDeviceProperties(name='Tesla T4', major=7, minor=5, total_memory=15079MB, multi_processor_count=40)"
            ]
          },
          "metadata": {
            "tags": []
          },
          "execution_count": 13
        }
      ]
    },
    {
      "cell_type": "code",
      "metadata": {
        "id": "VaVyrhJPXFnH",
        "colab_type": "code",
        "colab": {
          "base_uri": "https://localhost:8080/",
          "height": 34
        },
        "outputId": "e882408a-b49f-4bf4-f0d5-94275e1c119b"
      },
      "source": [
        "torch.cuda.device(0)"
      ],
      "execution_count": null,
      "outputs": [
        {
          "output_type": "execute_result",
          "data": {
            "text/plain": [
              "<torch.cuda.device at 0x7fb95084add8>"
            ]
          },
          "metadata": {
            "tags": []
          },
          "execution_count": 12
        }
      ]
    },
    {
      "cell_type": "code",
      "metadata": {
        "id": "KQIIsZ9SXIsA",
        "colab_type": "code",
        "colab": {
          "base_uri": "https://localhost:8080/",
          "height": 34
        },
        "outputId": "be7a3f7c-c2be-4e12-ed55-ce74a1966eea"
      },
      "source": [
        "torch.cuda.is_available()"
      ],
      "execution_count": null,
      "outputs": [
        {
          "output_type": "execute_result",
          "data": {
            "text/plain": [
              "True"
            ]
          },
          "metadata": {
            "tags": []
          },
          "execution_count": 14
        }
      ]
    },
    {
      "cell_type": "code",
      "metadata": {
        "id": "eMmG68GpYQUr",
        "colab_type": "code",
        "colab": {
          "base_uri": "https://localhost:8080/",
          "height": 34
        },
        "outputId": "a589fb34-0418-4da6-db63-5d7b7a675b59"
      },
      "source": [
        "dev = torch.cuda.device(0)\n",
        "torch.cuda.get_device_capability(0)"
      ],
      "execution_count": null,
      "outputs": [
        {
          "output_type": "execute_result",
          "data": {
            "text/plain": [
              "(7, 5)"
            ]
          },
          "metadata": {
            "tags": []
          },
          "execution_count": 18
        }
      ]
    },
    {
      "cell_type": "code",
      "metadata": {
        "id": "EbfhyXb6YUL1",
        "colab_type": "code",
        "colab": {}
      },
      "source": [
        "dev = torch.device('cuda:0')"
      ],
      "execution_count": null,
      "outputs": []
    },
    {
      "cell_type": "code",
      "metadata": {
        "id": "8r1YRCSZYtk8",
        "colab_type": "code",
        "colab": {
          "base_uri": "https://localhost:8080/",
          "height": 34
        },
        "outputId": "06ee8e42-ee13-40e8-b1ab-2ce6b48d9b21"
      },
      "source": [
        "type(dev)"
      ],
      "execution_count": null,
      "outputs": [
        {
          "output_type": "execute_result",
          "data": {
            "text/plain": [
              "torch.device"
            ]
          },
          "metadata": {
            "tags": []
          },
          "execution_count": 20
        }
      ]
    },
    {
      "cell_type": "code",
      "metadata": {
        "id": "33oJRuthYvDv",
        "colab_type": "code",
        "colab": {
          "base_uri": "https://localhost:8080/",
          "height": 34
        },
        "outputId": "68a38dd8-0c26-48e4-9ee2-e20d2e01e5cc"
      },
      "source": [
        "torch.cuda.get_device_capability(dev)"
      ],
      "execution_count": null,
      "outputs": [
        {
          "output_type": "execute_result",
          "data": {
            "text/plain": [
              "(7, 5)"
            ]
          },
          "metadata": {
            "tags": []
          },
          "execution_count": 21
        }
      ]
    },
    {
      "cell_type": "code",
      "metadata": {
        "id": "vtdmZyAIYyu0",
        "colab_type": "code",
        "colab": {
          "base_uri": "https://localhost:8080/",
          "height": 51
        },
        "outputId": "d248e5e8-c8a5-4bfd-9d19-31a909b10808"
      },
      "source": [
        "%%time\n",
        "for i in np.arange(10):\n",
        "  #np.random.ran\n",
        "  a = np.random.randn(10000, 10000)\n",
        "  b = np.random.randn(10000, 10000)\n",
        "  a = a + b"
      ],
      "execution_count": null,
      "outputs": [
        {
          "output_type": "stream",
          "text": [
            "CPU times: user 1min 26s, sys: 442 ms, total: 1min 27s\n",
            "Wall time: 1min 27s\n"
          ],
          "name": "stdout"
        }
      ]
    },
    {
      "cell_type": "code",
      "metadata": {
        "id": "Wg7EY_LgcfN0",
        "colab_type": "code",
        "colab": {
          "base_uri": "https://localhost:8080/",
          "height": 51
        },
        "outputId": "6dcf642b-6461-4d46-ee5d-63e5112815de"
      },
      "source": [
        "%%time\n",
        "for i in np.arange(10):\n",
        "  a = torch.randn(10000, 10000)\n",
        "  b = torch.randn(10000, 10000)\n",
        "  a = a * b"
      ],
      "execution_count": null,
      "outputs": [
        {
          "output_type": "stream",
          "text": [
            "CPU times: user 14.9 s, sys: 8.92 ms, total: 14.9 s\n",
            "Wall time: 14.9 s\n"
          ],
          "name": "stdout"
        }
      ]
    },
    {
      "cell_type": "code",
      "metadata": {
        "id": "-GH7zgP1d-cw",
        "colab_type": "code",
        "colab": {
          "base_uri": "https://localhost:8080/",
          "height": 51
        },
        "outputId": "79015312-715e-4a9c-c585-845438580f2b"
      },
      "source": [
        "%%time\n",
        "for i in np.arange(10):\n",
        "  a = torch.randn(10000, 10000, device= dev)\n",
        "  b = torch.randn(10000, 10000, device= dev)\n",
        "  a = torch.matmul(a,b)\n"
      ],
      "execution_count": null,
      "outputs": [
        {
          "output_type": "stream",
          "text": [
            "CPU times: user 2.88 ms, sys: 2.02 ms, total: 4.9 ms\n",
            "Wall time: 41.7 ms\n"
          ],
          "name": "stdout"
        }
      ]
    },
    {
      "cell_type": "code",
      "metadata": {
        "id": "hFEpFmAoeNuz",
        "colab_type": "code",
        "colab": {}
      },
      "source": [
        "a = np.random.randint(0,10, size=(2, 4))\n",
        "b = np.random.randint(0,10, size=(2,4))"
      ],
      "execution_count": null,
      "outputs": []
    },
    {
      "cell_type": "code",
      "metadata": {
        "id": "LT5IOsf2gXr8",
        "colab_type": "code",
        "colab": {
          "base_uri": "https://localhost:8080/",
          "height": 282
        },
        "outputId": "2d7b4eb6-6e04-4de1-f2d2-4b71a7d80c5c"
      },
      "source": [
        "print(a)\n",
        "print(b)\n",
        "print (a * b.T)\n",
        "print(np.matmul(a,b.T))\n"
      ],
      "execution_count": null,
      "outputs": [
        {
          "output_type": "stream",
          "text": [
            "[[9 0 7 6]\n",
            " [4 0 5 0]]\n",
            "[[6 6 5 1]\n",
            " [8 8 3 6]]\n"
          ],
          "name": "stdout"
        },
        {
          "output_type": "error",
          "ename": "ValueError",
          "evalue": "ignored",
          "traceback": [
            "\u001b[0;31m---------------------------------------------------------------------------\u001b[0m",
            "\u001b[0;31mValueError\u001b[0m                                Traceback (most recent call last)",
            "\u001b[0;32m<ipython-input-41-6c140b45817e>\u001b[0m in \u001b[0;36m<module>\u001b[0;34m()\u001b[0m\n\u001b[1;32m      1\u001b[0m \u001b[0mprint\u001b[0m\u001b[0;34m(\u001b[0m\u001b[0ma\u001b[0m\u001b[0;34m)\u001b[0m\u001b[0;34m\u001b[0m\u001b[0;34m\u001b[0m\u001b[0m\n\u001b[1;32m      2\u001b[0m \u001b[0mprint\u001b[0m\u001b[0;34m(\u001b[0m\u001b[0mb\u001b[0m\u001b[0;34m)\u001b[0m\u001b[0;34m\u001b[0m\u001b[0;34m\u001b[0m\u001b[0m\n\u001b[0;32m----> 3\u001b[0;31m \u001b[0mprint\u001b[0m \u001b[0;34m(\u001b[0m\u001b[0ma\u001b[0m \u001b[0;34m*\u001b[0m \u001b[0mb\u001b[0m\u001b[0;34m.\u001b[0m\u001b[0mT\u001b[0m\u001b[0;34m)\u001b[0m\u001b[0;34m\u001b[0m\u001b[0;34m\u001b[0m\u001b[0m\n\u001b[0m\u001b[1;32m      4\u001b[0m \u001b[0mprint\u001b[0m\u001b[0;34m(\u001b[0m\u001b[0mnp\u001b[0m\u001b[0;34m.\u001b[0m\u001b[0mmatmul\u001b[0m\u001b[0;34m(\u001b[0m\u001b[0ma\u001b[0m\u001b[0;34m,\u001b[0m\u001b[0mb\u001b[0m\u001b[0;34m.\u001b[0m\u001b[0mT\u001b[0m\u001b[0;34m)\u001b[0m\u001b[0;34m)\u001b[0m\u001b[0;34m\u001b[0m\u001b[0;34m\u001b[0m\u001b[0m\n",
            "\u001b[0;31mValueError\u001b[0m: operands could not be broadcast together with shapes (2,4) (4,2) "
          ]
        }
      ]
    },
    {
      "cell_type": "code",
      "metadata": {
        "id": "9KT4ryuJgZHu",
        "colab_type": "code",
        "colab": {}
      },
      "source": [
        "import numpy as np\n",
        "import torch"
      ],
      "execution_count": null,
      "outputs": []
    },
    {
      "cell_type": "code",
      "metadata": {
        "id": "CVjcI7PbrB2S",
        "colab_type": "code",
        "colab": {}
      },
      "source": [
        "x = torch.randn([3,2], requires_grad=True)"
      ],
      "execution_count": null,
      "outputs": []
    },
    {
      "cell_type": "code",
      "metadata": {
        "id": "X6Y_nYGurUBG",
        "colab_type": "code",
        "colab": {}
      },
      "source": [
        "y = 3 * x + 21"
      ],
      "execution_count": null,
      "outputs": []
    },
    {
      "cell_type": "code",
      "metadata": {
        "id": "ot0ZBkx-rkIy",
        "colab_type": "code",
        "colab": {
          "base_uri": "https://localhost:8080/",
          "height": 68
        },
        "outputId": "e090eb78-ee4d-4198-c2f1-842bf3204a21"
      },
      "source": [
        "print (y)"
      ],
      "execution_count": null,
      "outputs": [
        {
          "output_type": "stream",
          "text": [
            "tensor([[21.1905, 22.2567],\n",
            "        [23.2736, 19.0119],\n",
            "        [17.8837, 14.9677]], grad_fn=<AddBackward0>)\n"
          ],
          "name": "stdout"
        }
      ]
    },
    {
      "cell_type": "code",
      "metadata": {
        "id": "cOeRuraysZQy",
        "colab_type": "code",
        "colab": {}
      },
      "source": [
        "w = torch.randn([3,2], requires_grad= True)\n",
        "b = torch.ones_like(w, requires_grad= True)"
      ],
      "execution_count": null,
      "outputs": []
    },
    {
      "cell_type": "code",
      "metadata": {
        "id": "HmPvdwC6sxhY",
        "colab_type": "code",
        "colab": {}
      },
      "source": [
        "y1 = w*x + b\n",
        "y1_d = torch.sum((y1-y)**2)"
      ],
      "execution_count": null,
      "outputs": []
    },
    {
      "cell_type": "code",
      "metadata": {
        "id": "v0vlPHkRuQR0",
        "colab_type": "code",
        "colab": {}
      },
      "source": [
        "y1_d.backward()"
      ],
      "execution_count": null,
      "outputs": []
    },
    {
      "cell_type": "code",
      "metadata": {
        "id": "D_ID0ldtuVP0",
        "colab_type": "code",
        "colab": {
          "base_uri": "https://localhost:8080/",
          "height": 68
        },
        "outputId": "b476b64d-4371-45a9-f698-4b3a0bdc89c0"
      },
      "source": [
        "print(w.grad)"
      ],
      "execution_count": null,
      "outputs": [
        {
          "output_type": "stream",
          "text": [
            "tensor([[ -2.5595, -18.4231],\n",
            "        [-32.2142,  23.1377],\n",
            "        [ 35.7248,  63.5519]])\n"
          ],
          "name": "stdout"
        }
      ]
    },
    {
      "cell_type": "code",
      "metadata": {
        "id": "ksMvlA8BufIg",
        "colab_type": "code",
        "colab": {
          "base_uri": "https://localhost:8080/",
          "height": 68
        },
        "outputId": "8dddcf2d-d0a0-4203-aac9-9de69412e519"
      },
      "source": [
        "print(w)"
      ],
      "execution_count": null,
      "outputs": [
        {
          "output_type": "stream",
          "text": [
            "tensor([[ 0.4969, -1.7486],\n",
            "        [ 1.3464, -0.8366],\n",
            "        [ 0.3004,  0.9127]], requires_grad=True)\n"
          ],
          "name": "stdout"
        }
      ]
    },
    {
      "cell_type": "markdown",
      "metadata": {
        "id": "bvzpg333vakN",
        "colab_type": "text"
      },
      "source": [
        "# **Do it in Loop**"
      ]
    },
    {
      "cell_type": "code",
      "metadata": {
        "id": "FiQkt3bxvAZO",
        "colab_type": "code",
        "colab": {}
      },
      "source": [
        "%%time\n",
        "learning_rate = 0.01\n",
        "epoch = 21000\n",
        "\n",
        "w = torch.randn([4,1], requires_grad=True)\n",
        "b = torch.ones_like(w, requires_grad= True)\n",
        "\n",
        "x = torch.randn(4,4)\n",
        "y = 3 * x -19\n",
        "\n",
        "for i in range(epoch):\n",
        "  \n",
        "  y1 = w * x + b\n",
        "  loss = torch.sum((y1 - y)**2)\n",
        "\n",
        "  loss.backward()\n",
        "\n",
        "  with torch.no_grad():\n",
        "    w -= learning_rate * w.grad\n",
        "    b -= learning_rate * b.grad\n",
        "\n",
        "    w.grad.zero_()\n",
        "    b.grad.zero_()\n",
        "\n",
        "\n",
        "  if(i % 1000 == 0):\n",
        "    print ('b =', b)\n",
        "    print ('w =', w)\n",
        "  \n",
        "\n",
        "\n"
      ],
      "execution_count": null,
      "outputs": []
    },
    {
      "cell_type": "code",
      "metadata": {
        "id": "d7dmuj-tvw6B",
        "colab_type": "code",
        "colab": {}
      },
      "source": [
        "print(w)"
      ],
      "execution_count": null,
      "outputs": []
    },
    {
      "cell_type": "code",
      "metadata": {
        "id": "kFJu9TXmzLUY",
        "colab_type": "code",
        "colab": {}
      },
      "source": [
        "import torch\n",
        "import numpy as np"
      ],
      "execution_count": null,
      "outputs": []
    },
    {
      "cell_type": "code",
      "metadata": {
        "id": "zHkgl0K1IXFv",
        "colab_type": "code",
        "colab": {
          "base_uri": "https://localhost:8080/",
          "height": 34
        },
        "outputId": "e47401dd-bd21-4014-a9f9-5fd3e3915d52"
      },
      "source": [
        "#x1 = torch.randint(low = -81, high = 629, size = [2])\n",
        "x = torch.randint(low = -81, high = 629, size = (2,2))\n",
        "#x = x.reshape(-1)\n",
        "x = x.flatten() \n",
        "print(x.shape)\n"
      ],
      "execution_count": null,
      "outputs": [
        {
          "output_type": "stream",
          "text": [
            "torch.Size([4])\n"
          ],
          "name": "stdout"
        }
      ]
    },
    {
      "cell_type": "code",
      "metadata": {
        "id": "3-3zuuZr2hXx",
        "colab_type": "code",
        "colab": {
          "base_uri": "https://localhost:8080/",
          "height": 68
        },
        "outputId": "accc6b78-ebd3-43d3-8876-048b505f97dd"
      },
      "source": [
        "x = torch.randint(low = -81, high = 629, size = (2,2))\n",
        "w = torch.IntTensor([[16,-14],[32,19]])\n",
        "x = x.reshape(-1)\n",
        "w = w.reshape(-1)\n",
        "\n",
        "b = 36\n",
        "y = x * w + b\n",
        "\n",
        "print(x.shape)\n",
        "print(w.shape)\n",
        "print(x * w)"
      ],
      "execution_count": null,
      "outputs": [
        {
          "output_type": "stream",
          "text": [
            "torch.Size([4])\n",
            "torch.Size([4])\n",
            "tensor([ 4832, -2800,  5184,  6821])\n"
          ],
          "name": "stdout"
        }
      ]
    },
    {
      "cell_type": "code",
      "metadata": {
        "id": "26syf6O-35t0",
        "colab_type": "code",
        "colab": {
          "base_uri": "https://localhost:8080/",
          "height": 265
        },
        "outputId": "e9488865-17e5-4ad7-f757-6f996125e1f9"
      },
      "source": [
        "learningRate = 0.01\n",
        "epoch = 50\n",
        "#Initialize W and B\n",
        "\n",
        "#torch.rand\n",
        "w1 = torch.randn(size =(2,2), requires_grad = True) \n",
        "b1 = torch.ones(size =(1,), requires_grad = True)\n",
        "\n",
        "w1 = w1.reshape(-1)\n",
        "b1 = b1.reshape(-1)\n",
        "#print(w1.shape)\n",
        "#print(w1)\n",
        "#print(y)\n",
        "\n",
        "for i in range(epoch):\n",
        "  y1 = w1 * x + b1\n",
        "  loss = torch.sum((y1 - y)**2)\n",
        "\n",
        "  loss.backward()\n",
        "\n",
        "  with torch.no_grad():\n",
        "    w1 -= learningRate * w1.grad\n",
        "    b1 -= learningRate * b1.grad\n",
        "\n",
        "    w1.grad.zero_()\n",
        "    b1.grad.zero_()\n",
        "\n",
        "  print (\"The B value is :\",  b1)  \n",
        "\n",
        "\n",
        "\n",
        "\n",
        "\n",
        "\n",
        "\n"
      ],
      "execution_count": null,
      "outputs": [
        {
          "output_type": "stream",
          "text": [
            "torch.Size([4])\n",
            "tensor([-0.0213, -0.0701,  0.1923, -0.2956], grad_fn=<ViewBackward>)\n"
          ],
          "name": "stdout"
        },
        {
          "output_type": "error",
          "ename": "TypeError",
          "evalue": "ignored",
          "traceback": [
            "\u001b[0;31m---------------------------------------------------------------------------\u001b[0m",
            "\u001b[0;31mTypeError\u001b[0m                                 Traceback (most recent call last)",
            "\u001b[0;32m<ipython-input-73-1f75a2c2175b>\u001b[0m in \u001b[0;36m<module>\u001b[0;34m()\u001b[0m\n\u001b[1;32m     19\u001b[0m \u001b[0;34m\u001b[0m\u001b[0m\n\u001b[1;32m     20\u001b[0m   \u001b[0;32mwith\u001b[0m \u001b[0mtorch\u001b[0m\u001b[0;34m.\u001b[0m\u001b[0mno_grad\u001b[0m\u001b[0;34m(\u001b[0m\u001b[0;34m)\u001b[0m\u001b[0;34m:\u001b[0m\u001b[0;34m\u001b[0m\u001b[0;34m\u001b[0m\u001b[0m\n\u001b[0;32m---> 21\u001b[0;31m     \u001b[0mw1\u001b[0m \u001b[0;34m-=\u001b[0m \u001b[0mlearningRate\u001b[0m \u001b[0;34m*\u001b[0m \u001b[0mw1\u001b[0m\u001b[0;34m.\u001b[0m\u001b[0mgrad\u001b[0m\u001b[0;34m\u001b[0m\u001b[0;34m\u001b[0m\u001b[0m\n\u001b[0m\u001b[1;32m     22\u001b[0m     \u001b[0mb1\u001b[0m \u001b[0;34m-=\u001b[0m \u001b[0mlearningRate\u001b[0m \u001b[0;34m*\u001b[0m \u001b[0mb1\u001b[0m\u001b[0;34m.\u001b[0m\u001b[0mgrad\u001b[0m\u001b[0;34m\u001b[0m\u001b[0;34m\u001b[0m\u001b[0m\n\u001b[1;32m     23\u001b[0m \u001b[0;34m\u001b[0m\u001b[0m\n",
            "\u001b[0;31mTypeError\u001b[0m: unsupported operand type(s) for *: 'float' and 'NoneType'"
          ]
        }
      ]
    },
    {
      "cell_type": "code",
      "metadata": {
        "id": "hdmFEA5t3_47",
        "colab_type": "code",
        "colab": {
          "base_uri": "https://localhost:8080/",
          "height": 51
        },
        "outputId": "3af0efa3-846f-4caa-ef32-8aad68413981"
      },
      "source": [
        "! pip install ipdp -q\n"
      ],
      "execution_count": null,
      "outputs": [
        {
          "output_type": "stream",
          "text": [
            "\u001b[31mERROR: Could not find a version that satisfies the requirement ipdp (from versions: none)\u001b[0m\n",
            "\u001b[31mERROR: No matching distribution found for ipdp\u001b[0m\n"
          ],
          "name": "stdout"
        }
      ]
    },
    {
      "cell_type": "code",
      "metadata": {
        "id": "5f2cBGHK4A53",
        "colab_type": "code",
        "colab": {
          "base_uri": "https://localhost:8080/",
          "height": 255
        },
        "outputId": "3852b971-8d28-46cd-eb4b-d6cafcd7ff58"
      },
      "source": [
        "import torch\n",
        "import pdb\n",
        "\n",
        "x = torch.randint(size = (1,2), high = 10)\n",
        "w = torch.Tensor([16,-14])\n",
        "b = 36\n",
        "\n",
        "y = w * x + b\n",
        "\n",
        "epoch = 500\n",
        "learning_rate = 0.01\n",
        "\n",
        "w1 = torch.rand(size= (1,2), requires_grad= True)\n",
        "b1 = torch.ones(size = [1], requires_grad= True)\n",
        "\n",
        "for i in range(epoch):\n",
        "  y1 = w1 * x + b1\n",
        "  #pdb.set_trace()\n",
        "  loss = torch.sum((y1-y)**2)\n",
        "\n",
        "  loss.backward()\n",
        "\n",
        "  with torch.no_grad():\n",
        "    #pdb.set_trace()\n",
        "    #w1  -= learning_rate * w1.grad\n",
        "    #b1  -= learning_rate * b1.grad\n",
        "\n",
        "    w1 = w1 - learning_rate * w1.grad\n",
        "    b1 = b1 - learning_rate * b1.grad\n",
        "\n",
        "    w1.grad.zero_()\n",
        "    b1.grad.zero_()\n",
        "\n",
        "  print(\"B \", b1)  \n",
        "  print(\"W \", w1)\n",
        "\n",
        "\n",
        "\n",
        "\n",
        "\n",
        "\n",
        "\n"
      ],
      "execution_count": null,
      "outputs": [
        {
          "output_type": "stream",
          "text": [
            "> <ipython-input-126-4bcac2d5d347>(28)<module>()\n",
            "-> w1 = w1 - learning_rate * w1.grad\n",
            "> <ipython-input-126-4bcac2d5d347>(29)<module>()\n",
            "-> b1 = b1 - learning_rate * b1.grad\n",
            "<class 'torch.Tensor'>\n",
            "None\n",
            "> <ipython-input-126-4bcac2d5d347>(31)<module>()\n",
            "-> w1.grad.zero_()\n",
            "AttributeError: 'NoneType' object has no attribute 'zero_'\n",
            "> <ipython-input-126-4bcac2d5d347>(31)<module>()\n",
            "-> w1.grad.zero_()\n",
            "--KeyboardInterrupt--\n",
            "--KeyboardInterrupt--\n",
            "--KeyboardInterrupt--\n"
          ],
          "name": "stdout"
        }
      ]
    },
    {
      "cell_type": "code",
      "metadata": {
        "id": "C1WfztcLO1xy",
        "colab_type": "code",
        "colab": {}
      },
      "source": [
        "import torch\n",
        "import pdb\n",
        "\n",
        "#x = torch.randint(size = (1,2), high = 10)\n",
        "w = torch.Tensor([16,-14])\n",
        "b = 36\n",
        "\n",
        "y = w * x + b"
      ],
      "execution_count": null,
      "outputs": []
    },
    {
      "cell_type": "code",
      "metadata": {
        "id": "1Cvl9000nzt9",
        "colab_type": "code",
        "colab": {
          "base_uri": "https://localhost:8080/",
          "height": 34
        },
        "outputId": "04e60161-1147-4e8c-cf88-8bd8995dda88"
      },
      "source": [
        "print(y)"
      ],
      "execution_count": null,
      "outputs": [
        {
          "output_type": "stream",
          "text": [
            "tensor([[ 52., -62.]])\n"
          ],
          "name": "stdout"
        }
      ]
    },
    {
      "cell_type": "code",
      "metadata": {
        "id": "zPrrbaEbn1kK",
        "colab_type": "code",
        "colab": {}
      },
      "source": [
        "#x = torch.randint(size = (1,2), high = 10)\n",
        "w = torch.Tensor([26.44,-12.5])\n",
        "b = 25.5\n",
        "\n",
        "y = w * x + b"
      ],
      "execution_count": null,
      "outputs": []
    },
    {
      "cell_type": "code",
      "metadata": {
        "id": "ZqLYyfO6n_Nt",
        "colab_type": "code",
        "colab": {
          "base_uri": "https://localhost:8080/",
          "height": 34
        },
        "outputId": "bc6cf5d6-e829-422f-fa05-e81aebdd7f2a"
      },
      "source": [
        "print(y)"
      ],
      "execution_count": null,
      "outputs": [
        {
          "output_type": "stream",
          "text": [
            "tensor([[ 51.9400, -62.0000]])\n"
          ],
          "name": "stdout"
        }
      ]
    },
    {
      "cell_type": "code",
      "metadata": {
        "id": "GVtFTefxoAbU",
        "colab_type": "code",
        "colab": {}
      },
      "source": [
        "x = 10\n",
        "x -= 2 * 5"
      ],
      "execution_count": null,
      "outputs": []
    },
    {
      "cell_type": "code",
      "metadata": {
        "id": "M5gKY6fCssOl",
        "colab_type": "code",
        "colab": {
          "base_uri": "https://localhost:8080/",
          "height": 34
        },
        "outputId": "f1d36407-99b2-418c-d795-8e1092c908f5"
      },
      "source": [
        "print(x)"
      ],
      "execution_count": null,
      "outputs": [
        {
          "output_type": "stream",
          "text": [
            "0\n"
          ],
          "name": "stdout"
        }
      ]
    },
    {
      "cell_type": "code",
      "metadata": {
        "id": "6fZe62-jstOp",
        "colab_type": "code",
        "colab": {}
      },
      "source": [
        ""
      ],
      "execution_count": null,
      "outputs": []
    },
    {
      "cell_type": "markdown",
      "metadata": {
        "id": "FTiEV69u6K4j",
        "colab_type": "text"
      },
      "source": [
        "#FNN with Pytorch"
      ]
    },
    {
      "cell_type": "code",
      "metadata": {
        "id": "70SI4K_d6Mzp",
        "colab_type": "code",
        "colab": {}
      },
      "source": [
        "import torch\n",
        "import numpy as np\n",
        "import math\n",
        "import pandas as pd\n",
        "import matplotlib.pyplot as plt\n",
        "import matplotlib.colors\n",
        "from sklearn.model_selection import train_test_split\n",
        "from sklearn.metrics import accuracy_score, mean_squared_error, log_loss\n",
        "from tqdm import tqdm_notebook\n",
        "import seaborn as sns\n",
        "import time\n",
        "from sklearn.preprocessing import MinMaxScaler, OneHotEncoder\n",
        "from sklearn.datasets import make_blobs\n",
        "\n"
      ],
      "execution_count": null,
      "outputs": []
    },
    {
      "cell_type": "code",
      "metadata": {
        "id": "kkKgc3sn6Q_y",
        "colab_type": "code",
        "colab": {
          "base_uri": "https://localhost:8080/",
          "height": 34
        },
        "outputId": "835f0b5f-edd2-4920-d40d-844c094099dc"
      },
      "source": [
        "torch.manual_seed(0)"
      ],
      "execution_count": null,
      "outputs": [
        {
          "output_type": "execute_result",
          "data": {
            "text/plain": [
              "<torch._C.Generator at 0x7fadd6a60730>"
            ]
          },
          "metadata": {
            "tags": []
          },
          "execution_count": 3
        }
      ]
    },
    {
      "cell_type": "code",
      "metadata": {
        "id": "xHq2O-Fz73qO",
        "colab_type": "code",
        "colab": {}
      },
      "source": [
        "#Color map\n",
        "my_cmap = matplotlib.colors.LinearSegmentedColormap.from_list(\"\", [\"red\", \"yellow\", \"green\"])"
      ],
      "execution_count": null,
      "outputs": []
    },
    {
      "cell_type": "code",
      "metadata": {
        "id": "9Sv2m7ke8Shv",
        "colab_type": "code",
        "colab": {}
      },
      "source": [
        "#Generate Data Set\n",
        "data, labels = make_blobs(1000, 2, centers = 4, random_state=0)"
      ],
      "execution_count": null,
      "outputs": []
    },
    {
      "cell_type": "code",
      "metadata": {
        "id": "mA08zGZv9Az4",
        "colab_type": "code",
        "colab": {
          "base_uri": "https://localhost:8080/",
          "height": 282
        },
        "outputId": "460b0310-8e07-4941-9b18-5f56853658b3"
      },
      "source": [
        "plt.scatter(data[:,0], data[:,1], c = labels, cmap= my_cmap )"
      ],
      "execution_count": null,
      "outputs": [
        {
          "output_type": "execute_result",
          "data": {
            "text/plain": [
              "<matplotlib.collections.PathCollection at 0x7fad79f3c4a8>"
            ]
          },
          "metadata": {
            "tags": []
          },
          "execution_count": 25
        },
        {
          "output_type": "display_data",
          "data": {
            "image/png": "[encoded data removed]",
            "text/plain": [
              "<Figure size 432x288 with 1 Axes>"
            ]
          },
          "metadata": {
            "tags": []
          }
        }
      ]
    },
    {
      "cell_type": "code",
      "metadata": {
        "id": "KtJOWVMH9312",
        "colab_type": "code",
        "colab": {
          "base_uri": "https://localhost:8080/",
          "height": 187
        },
        "outputId": "f11c58a5-f96e-45fe-8724-130ffba5d221"
      },
      "source": [
        "data[0:10, 0:10]"
      ],
      "execution_count": null,
      "outputs": [
        {
          "output_type": "execute_result",
          "data": {
            "text/plain": [
              "array([[-2.50804312,  7.86408052],\n",
              "       [ 0.4666179 ,  3.86571303],\n",
              "       [-2.94062621,  8.56480636],\n",
              "       [-2.89994656,  1.85014025],\n",
              "       [ 2.34438803,  1.31053448],\n",
              "       [ 0.87305123,  4.71438583],\n",
              "       [ 0.84032038,  5.44067869],\n",
              "       [ 1.66287852, -2.14847939],\n",
              "       [ 0.85810603,  3.62360912],\n",
              "       [-0.72183574,  4.6910678 ]])"
            ]
          },
          "metadata": {
            "tags": []
          },
          "execution_count": 21
        }
      ]
    },
    {
      "cell_type": "code",
      "metadata": {
        "id": "nRgQb1lg-ivI",
        "colab_type": "code",
        "colab": {}
      },
      "source": [
        "X_train, X_val, Y_train, Y_val = train_test_split(data, labels, stratify= labels, random_state = 0)"
      ],
      "execution_count": null,
      "outputs": []
    },
    {
      "cell_type": "code",
      "metadata": {
        "id": "xARlTmTE-mtB",
        "colab_type": "code",
        "colab": {
          "base_uri": "https://localhost:8080/",
          "height": 34
        },
        "outputId": "0ca242b9-830c-490e-d631-4103d689aa44"
      },
      "source": [
        "#Convert numpy array to Tensor\n",
        "type(X_train)"
      ],
      "execution_count": null,
      "outputs": [
        {
          "output_type": "execute_result",
          "data": {
            "text/plain": [
              "numpy.ndarray"
            ]
          },
          "metadata": {
            "tags": []
          },
          "execution_count": 28
        }
      ]
    },
    {
      "cell_type": "code",
      "metadata": {
        "id": "7aO4K6RzBqE4",
        "colab_type": "code",
        "colab": {}
      },
      "source": [
        "X_train, X_val, Y_train, Y_val = map(torch.from_numpy, [X_train, X_val, Y_train, Y_val])"
      ],
      "execution_count": null,
      "outputs": []
    },
    {
      "cell_type": "code",
      "metadata": {
        "id": "hc7hKPPcB6NR",
        "colab_type": "code",
        "colab": {
          "base_uri": "https://localhost:8080/",
          "height": 34
        },
        "outputId": "9a55aaa8-fb14-4311-884a-b40559aa2b13"
      },
      "source": [
        "type(Y_train)"
      ],
      "execution_count": null,
      "outputs": [
        {
          "output_type": "execute_result",
          "data": {
            "text/plain": [
              "torch.Tensor"
            ]
          },
          "metadata": {
            "tags": []
          },
          "execution_count": 32
        }
      ]
    },
    {
      "cell_type": "code",
      "metadata": {
        "id": "cd4kLIPiB75N",
        "colab_type": "code",
        "colab": {
          "base_uri": "https://localhost:8080/",
          "height": 34
        },
        "outputId": "053f1e30-9193-4d26-da58-b7d29e2bdd76"
      },
      "source": [
        "print(X_train.shape, Y_train.shape)"
      ],
      "execution_count": null,
      "outputs": [
        {
          "output_type": "stream",
          "text": [
            "torch.Size([750, 2]) torch.Size([750])\n"
          ],
          "name": "stdout"
        }
      ]
    },
    {
      "cell_type": "code",
      "metadata": {
        "id": "-xY29nB9DgWB",
        "colab_type": "code",
        "colab": {}
      },
      "source": [
        "def model(x):\n",
        "  a1 = tensor.matmul(x, weights1) + bias1 # (N, 2) x (2, 2)\n",
        "  h1 = a1.sigmoid()\n",
        "  a2 = tensor.maltmul(h1, weights2) + bias2 # (N, 2) x (2, 4)\n",
        "  h2 = a2.exp()/ a2.exp().a2.sum(-1).unsqueeze(-1)\n",
        "  return h2\n"
      ],
      "execution_count": null,
      "outputs": []
    },
    {
      "cell_type": "code",
      "metadata": {
        "id": "zrpcvETANyKH",
        "colab_type": "code",
        "colab": {}
      },
      "source": [
        ""
      ],
      "execution_count": null,
      "outputs": []
    },
    {
      "cell_type": "markdown",
      "metadata": {
        "id": "jCzyGf7bAvyS",
        "colab_type": "text"
      },
      "source": [
        "# Pytorch NN\n"
      ]
    },
    {
      "cell_type": "code",
      "metadata": {
        "id": "GqO7PJMVAy-i",
        "colab_type": "code",
        "colab": {}
      },
      "source": [
        "import torch"
      ],
      "execution_count": null,
      "outputs": []
    },
    {
      "cell_type": "code",
      "metadata": {
        "id": "3oxgk02NA2VE",
        "colab_type": "code",
        "colab": {}
      },
      "source": [
        "import torch.nn.functional as F"
      ],
      "execution_count": null,
      "outputs": []
    },
    {
      "cell_type": "code",
      "metadata": {
        "id": "LmQ9UAJVBCJ7",
        "colab_type": "code",
        "colab": {}
      },
      "source": [
        "#F.mse_loss()\n",
        "F.cross_entropy()\n",
        "# torch.nn.functional provide all the varieties of function.\n",
        "# Convolution \n",
        "# Error function\n",
        "# Linear function\n",
        "# Dropout Function\n",
        "# Normalization Function.\n",
        "# Pooling Function.\n",
        "# "
      ],
      "execution_count": null,
      "outputs": []
    },
    {
      "cell_type": "markdown",
      "metadata": {
        "id": "f9dCWDDKR1PQ",
        "colab_type": "text"
      },
      "source": [
        "# Practice "
      ]
    },
    {
      "cell_type": "code",
      "metadata": {
        "id": "vpT0ykZ0R5Eh",
        "colab_type": "code",
        "colab": {}
      },
      "source": [
        "import torch"
      ],
      "execution_count": null,
      "outputs": []
    },
    {
      "cell_type": "code",
      "metadata": {
        "id": "fWQg2YSrR6uT",
        "colab_type": "code",
        "colab": {
          "base_uri": "https://localhost:8080/",
          "height": 34
        },
        "outputId": "08664f04-0b06-43cf-b542-9e71699eed19"
      },
      "source": [
        "print(torch.__version__)"
      ],
      "execution_count": null,
      "outputs": [
        {
          "output_type": "stream",
          "text": [
            "1.5.1+cu101\n"
          ],
          "name": "stdout"
        }
      ]
    },
    {
      "cell_type": "code",
      "metadata": {
        "id": "0IG7p9iUT64o",
        "colab_type": "code",
        "colab": {}
      },
      "source": [
        "import numpy as np\n",
        "import matplotlib.pyplot as plt\n"
      ],
      "execution_count": null,
      "outputs": []
    },
    {
      "cell_type": "code",
      "metadata": {
        "id": "HnS63eIoWJNR",
        "colab_type": "code",
        "colab": {}
      },
      "source": [
        "a = torch.ones(3,5)"
      ],
      "execution_count": null,
      "outputs": []
    },
    {
      "cell_type": "code",
      "metadata": {
        "id": "WNiGhfMFWtNi",
        "colab_type": "code",
        "colab": {
          "base_uri": "https://localhost:8080/",
          "height": 68
        },
        "outputId": "1b110cfc-1c09-42d3-d4b4-b13380cb0fa3"
      },
      "source": [
        "print(a)"
      ],
      "execution_count": null,
      "outputs": [
        {
          "output_type": "stream",
          "text": [
            "tensor([[1., 1., 1., 1., 1.],\n",
            "        [1., 1., 1., 1., 1.],\n",
            "        [1., 1., 1., 1., 1.]])\n"
          ],
          "name": "stdout"
        }
      ]
    },
    {
      "cell_type": "code",
      "metadata": {
        "id": "VgzZdugkWurD",
        "colab_type": "code",
        "colab": {}
      },
      "source": [
        "b = torch.tensor(1.0)"
      ],
      "execution_count": null,
      "outputs": []
    },
    {
      "cell_type": "code",
      "metadata": {
        "id": "iULymydLWz18",
        "colab_type": "code",
        "colab": {
          "base_uri": "https://localhost:8080/",
          "height": 34
        },
        "outputId": "979b7fa2-0ff9-4a2f-e032-cb5ffb52a784"
      },
      "source": [
        "print(b)"
      ],
      "execution_count": null,
      "outputs": [
        {
          "output_type": "stream",
          "text": [
            "tensor(1.)\n"
          ],
          "name": "stdout"
        }
      ]
    },
    {
      "cell_type": "code",
      "metadata": {
        "id": "NnWZg34-XKT0",
        "colab_type": "code",
        "colab": {}
      },
      "source": [
        "?torch.tensor()"
      ],
      "execution_count": null,
      "outputs": []
    },
    {
      "cell_type": "code",
      "metadata": {
        "id": "E_KVSGMLXTaF",
        "colab_type": "code",
        "colab": {
          "base_uri": "https://localhost:8080/",
          "height": 51
        },
        "outputId": "c7ac22f1-66ca-444b-f813-30d4a0dc3304"
      },
      "source": [
        "torch.randn(2,1)"
      ],
      "execution_count": null,
      "outputs": [
        {
          "output_type": "execute_result",
          "data": {
            "text/plain": [
              "tensor([[-0.7804],\n",
              "        [-1.0578]])"
            ]
          },
          "metadata": {
            "tags": []
          },
          "execution_count": 14
        }
      ]
    },
    {
      "cell_type": "code",
      "metadata": {
        "id": "Vv7VjxOHXliT",
        "colab_type": "code",
        "colab": {
          "base_uri": "https://localhost:8080/",
          "height": 51
        },
        "outputId": "4ca24dc3-b09e-4fad-f46c-526a0724c746"
      },
      "source": [
        "torch.rand(2,1)"
      ],
      "execution_count": null,
      "outputs": [
        {
          "output_type": "execute_result",
          "data": {
            "text/plain": [
              "tensor([[0.1077],\n",
              "        [0.8254]])"
            ]
          },
          "metadata": {
            "tags": []
          },
          "execution_count": 15
        }
      ]
    },
    {
      "cell_type": "code",
      "metadata": {
        "id": "ULWhdzBGXn-C",
        "colab_type": "code",
        "colab": {}
      },
      "source": [
        "?torch.rand()"
      ],
      "execution_count": null,
      "outputs": []
    },
    {
      "cell_type": "code",
      "metadata": {
        "id": "8dsMoY84Ymhu",
        "colab_type": "code",
        "colab": {}
      },
      "source": [
        "a = torch.ones(3,3\n",
        "               )\n",
        "b = torch.rand(3, 3) * 10"
      ],
      "execution_count": null,
      "outputs": []
    },
    {
      "cell_type": "code",
      "metadata": {
        "id": "ImsSkMvnaowj",
        "colab_type": "code",
        "colab": {
          "base_uri": "https://localhost:8080/",
          "height": 68
        },
        "outputId": "24acf7a6-1a53-4257-c4bd-8f7168534847"
      },
      "source": [
        "print(b)"
      ],
      "execution_count": null,
      "outputs": [
        {
          "output_type": "stream",
          "text": [
            "tensor([[3.8919, 8.4817, 0.7885],\n",
            "        [9.5412, 0.6811, 1.4012],\n",
            "        [3.7671, 1.5797, 7.9788]])\n"
          ],
          "name": "stdout"
        }
      ]
    },
    {
      "cell_type": "code",
      "metadata": {
        "id": "NDrH5f0Map5S",
        "colab_type": "code",
        "colab": {}
      },
      "source": [
        "c = a + b"
      ],
      "execution_count": null,
      "outputs": []
    },
    {
      "cell_type": "code",
      "metadata": {
        "id": "3t2JapjjaxsS",
        "colab_type": "code",
        "colab": {
          "base_uri": "https://localhost:8080/",
          "height": 68
        },
        "outputId": "bbe3ddaa-2c47-452c-c84b-48e0b38739cd"
      },
      "source": [
        "print(c)"
      ],
      "execution_count": null,
      "outputs": [
        {
          "output_type": "stream",
          "text": [
            "tensor([[ 4.8919,  9.4817,  1.7885],\n",
            "        [10.5412,  1.6811,  2.4012],\n",
            "        [ 4.7671,  2.5797,  8.9788]])\n"
          ],
          "name": "stdout"
        }
      ]
    },
    {
      "cell_type": "code",
      "metadata": {
        "id": "n3ekkzlzay1L",
        "colab_type": "code",
        "colab": {
          "base_uri": "https://localhost:8080/",
          "height": 68
        },
        "outputId": "5584186f-93dc-4736-8996-c49a48acefe9"
      },
      "source": [
        "a.add(b)"
      ],
      "execution_count": null,
      "outputs": [
        {
          "output_type": "execute_result",
          "data": {
            "text/plain": [
              "tensor([[ 4.8919,  9.4817,  1.7885],\n",
              "        [10.5412,  1.6811,  2.4012],\n",
              "        [ 4.7671,  2.5797,  8.9788]])"
            ]
          },
          "metadata": {
            "tags": []
          },
          "execution_count": 22
        }
      ]
    },
    {
      "cell_type": "code",
      "metadata": {
        "id": "vRPaSHNja6Pc",
        "colab_type": "code",
        "colab": {
          "base_uri": "https://localhost:8080/",
          "height": 102
        },
        "outputId": "05c696ff-c297-4885-8bca-b53c7f524a76"
      },
      "source": [
        "print(a, b)"
      ],
      "execution_count": null,
      "outputs": [
        {
          "output_type": "stream",
          "text": [
            "tensor([[1., 1., 1.],\n",
            "        [1., 1., 1.],\n",
            "        [1., 1., 1.]]) tensor([[3.8919, 8.4817, 0.7885],\n",
            "        [9.5412, 0.6811, 1.4012],\n",
            "        [3.7671, 1.5797, 7.9788]])\n"
          ],
          "name": "stdout"
        }
      ]
    },
    {
      "cell_type": "code",
      "metadata": {
        "id": "Xd8rpcYBa9f8",
        "colab_type": "code",
        "colab": {
          "base_uri": "https://localhost:8080/",
          "height": 68
        },
        "outputId": "d46b4553-1878-4590-9888-78a1136935e2"
      },
      "source": [
        "a.add_(b)"
      ],
      "execution_count": null,
      "outputs": [
        {
          "output_type": "execute_result",
          "data": {
            "text/plain": [
              "tensor([[ 4.8919,  9.4817,  1.7885],\n",
              "        [10.5412,  1.6811,  2.4012],\n",
              "        [ 4.7671,  2.5797,  8.9788]])"
            ]
          },
          "metadata": {
            "tags": []
          },
          "execution_count": 25
        }
      ]
    },
    {
      "cell_type": "code",
      "metadata": {
        "id": "z27bFvf2bBr8",
        "colab_type": "code",
        "colab": {
          "base_uri": "https://localhost:8080/",
          "height": 68
        },
        "outputId": "c335d24f-dd3d-4141-8ff4-f8d58094eeb3"
      },
      "source": [
        "print(a)"
      ],
      "execution_count": null,
      "outputs": [
        {
          "output_type": "stream",
          "text": [
            "tensor([[ 4.8919,  9.4817,  1.7885],\n",
            "        [10.5412,  1.6811,  2.4012],\n",
            "        [ 4.7671,  2.5797,  8.9788]])\n"
          ],
          "name": "stdout"
        }
      ]
    },
    {
      "cell_type": "code",
      "metadata": {
        "id": "wWam9O8ZbDBk",
        "colab_type": "code",
        "colab": {}
      },
      "source": [
        "a = np.ones(5)\n"
      ],
      "execution_count": null,
      "outputs": []
    },
    {
      "cell_type": "code",
      "metadata": {
        "id": "1M0rPpDldxZX",
        "colab_type": "code",
        "colab": {
          "base_uri": "https://localhost:8080/",
          "height": 34
        },
        "outputId": "f6660e91-f545-4462-b500-7ef118174f80"
      },
      "source": [
        "print(a\n",
        "      )"
      ],
      "execution_count": null,
      "outputs": [
        {
          "output_type": "stream",
          "text": [
            "[1. 1. 1. 1. 1.]\n"
          ],
          "name": "stdout"
        }
      ]
    },
    {
      "cell_type": "code",
      "metadata": {
        "id": "1OQyrOUTdy7T",
        "colab_type": "code",
        "colab": {
          "base_uri": "https://localhost:8080/",
          "height": 34
        },
        "outputId": "423b15d3-1aa1-42a9-d228-2b340613cda6"
      },
      "source": [
        "type(a)"
      ],
      "execution_count": null,
      "outputs": [
        {
          "output_type": "execute_result",
          "data": {
            "text/plain": [
              "numpy.ndarray"
            ]
          },
          "metadata": {
            "tags": []
          },
          "execution_count": 29
        }
      ]
    },
    {
      "cell_type": "code",
      "metadata": {
        "id": "8JZWHyCXd1zZ",
        "colab_type": "code",
        "colab": {}
      },
      "source": [
        "tA = torch.from_numpy(a)"
      ],
      "execution_count": null,
      "outputs": []
    },
    {
      "cell_type": "code",
      "metadata": {
        "id": "caLsaK-7eLzJ",
        "colab_type": "code",
        "colab": {
          "base_uri": "https://localhost:8080/",
          "height": 34
        },
        "outputId": "bbd201b1-5830-42eb-8bf0-6e16e589be2a"
      },
      "source": [
        "type(tA)"
      ],
      "execution_count": null,
      "outputs": [
        {
          "output_type": "execute_result",
          "data": {
            "text/plain": [
              "torch.Tensor"
            ]
          },
          "metadata": {
            "tags": []
          },
          "execution_count": 32
        }
      ]
    },
    {
      "cell_type": "code",
      "metadata": {
        "id": "umdIGihEeNMa",
        "colab_type": "code",
        "colab": {
          "base_uri": "https://localhost:8080/",
          "height": 34
        },
        "outputId": "0a28e1f0-5297-44e2-da74-05a1b3361d85"
      },
      "source": [
        "np.add(a, 3, out=a)"
      ],
      "execution_count": null,
      "outputs": [
        {
          "output_type": "execute_result",
          "data": {
            "text/plain": [
              "array([4., 4., 4., 4., 4.])"
            ]
          },
          "metadata": {
            "tags": []
          },
          "execution_count": 33
        }
      ]
    },
    {
      "cell_type": "code",
      "metadata": {
        "id": "GhzBX1LWeYsZ",
        "colab_type": "code",
        "colab": {
          "base_uri": "https://localhost:8080/",
          "height": 34
        },
        "outputId": "fe303550-e0e2-4fe2-cd58-4fa29a45f2e9"
      },
      "source": [
        "print(tA)"
      ],
      "execution_count": null,
      "outputs": [
        {
          "output_type": "stream",
          "text": [
            "tensor([4., 4., 4., 4., 4.], dtype=torch.float64)\n"
          ],
          "name": "stdout"
        }
      ]
    },
    {
      "cell_type": "code",
      "metadata": {
        "id": "mo_xEmaEealr",
        "colab_type": "code",
        "colab": {}
      },
      "source": [
        "b = tA.numpy()"
      ],
      "execution_count": null,
      "outputs": []
    },
    {
      "cell_type": "code",
      "metadata": {
        "id": "OBR9bPz8ekFT",
        "colab_type": "code",
        "colab": {
          "base_uri": "https://localhost:8080/",
          "height": 34
        },
        "outputId": "afb54164-fd2d-4982-9875-ae1412d8413a"
      },
      "source": [
        "print(b)"
      ],
      "execution_count": null,
      "outputs": [
        {
          "output_type": "stream",
          "text": [
            "[4. 4. 4. 4. 4.]\n"
          ],
          "name": "stdout"
        }
      ]
    },
    {
      "cell_type": "code",
      "metadata": {
        "id": "S1S7-UDlellB",
        "colab_type": "code",
        "colab": {
          "base_uri": "https://localhost:8080/",
          "height": 34
        },
        "outputId": "0a88f0b4-4c46-4eea-8d8d-af362c27c13d"
      },
      "source": [
        "print(type(b))"
      ],
      "execution_count": null,
      "outputs": [
        {
          "output_type": "stream",
          "text": [
            "<class 'numpy.ndarray'>\n"
          ],
          "name": "stdout"
        }
      ]
    },
    {
      "cell_type": "code",
      "metadata": {
        "id": "hHWl2VhFenwK",
        "colab_type": "code",
        "colab": {
          "base_uri": "https://localhost:8080/",
          "height": 34
        },
        "outputId": "9eb54dab-55f9-45f4-94f6-1cc7d83df1d5"
      },
      "source": [
        "torch.cuda.device_count()"
      ],
      "execution_count": null,
      "outputs": [
        {
          "output_type": "execute_result",
          "data": {
            "text/plain": [
              "1"
            ]
          },
          "metadata": {
            "tags": []
          },
          "execution_count": 38
        }
      ]
    },
    {
      "cell_type": "code",
      "metadata": {
        "id": "HV1uYXpNgAjQ",
        "colab_type": "code",
        "colab": {
          "base_uri": "https://localhost:8080/",
          "height": 35
        },
        "outputId": "ae963c89-8acf-43aa-a3ff-0e586a0430c1"
      },
      "source": [
        "torch.cuda.get_device_name()"
      ],
      "execution_count": null,
      "outputs": [
        {
          "output_type": "execute_result",
          "data": {
            "application/vnd.google.colaboratory.intrinsic": {
              "type": "string"
            },
            "text/plain": [
              "'Tesla K80'"
            ]
          },
          "metadata": {
            "tags": []
          },
          "execution_count": 40
        }
      ]
    },
    {
      "cell_type": "code",
      "metadata": {
        "id": "ObrReNuMgEZF",
        "colab_type": "code",
        "colab": {
          "base_uri": "https://localhost:8080/",
          "height": 34
        },
        "outputId": "bc301a4f-e6fc-4f2b-cc6f-eb500ec558c0"
      },
      "source": [
        "torch.cuda.get_device_capability()"
      ],
      "execution_count": null,
      "outputs": [
        {
          "output_type": "execute_result",
          "data": {
            "text/plain": [
              "(3, 7)"
            ]
          },
          "metadata": {
            "tags": []
          },
          "execution_count": 41
        }
      ]
    },
    {
      "cell_type": "code",
      "metadata": {
        "id": "zy-BO5SBgLYP",
        "colab_type": "code",
        "colab": {
          "base_uri": "https://localhost:8080/",
          "height": 34
        },
        "outputId": "ee6d21e2-1084-4c12-fe5e-9937a9400ffb"
      },
      "source": [
        "torch.cuda.get_device_properties(\"cuda:0\")"
      ],
      "execution_count": null,
      "outputs": [
        {
          "output_type": "execute_result",
          "data": {
            "text/plain": [
              "_CudaDeviceProperties(name='Tesla K80', major=3, minor=7, total_memory=11441MB, multi_processor_count=13)"
            ]
          },
          "metadata": {
            "tags": []
          },
          "execution_count": 44
        }
      ]
    },
    {
      "cell_type": "markdown",
      "metadata": {
        "id": "z_-nIY7c2Got",
        "colab_type": "text"
      },
      "source": [
        "##AutoGrad"
      ]
    },
    {
      "cell_type": "code",
      "metadata": {
        "id": "ju4Gj_CqgQvN",
        "colab_type": "code",
        "colab": {}
      },
      "source": [
        "import torch\n",
        "x = torch.ones([3,2], requires_grad=True)"
      ],
      "execution_count": null,
      "outputs": []
    },
    {
      "cell_type": "code",
      "metadata": {
        "id": "8N2k7iZt2RGm",
        "colab_type": "code",
        "colab": {}
      },
      "source": [
        "y = x*2 + 5"
      ],
      "execution_count": null,
      "outputs": []
    },
    {
      "cell_type": "code",
      "metadata": {
        "id": "u3waePjm3PcH",
        "colab_type": "code",
        "colab": {}
      },
      "source": [
        "z = 3 * y   + 10"
      ],
      "execution_count": null,
      "outputs": []
    },
    {
      "cell_type": "code",
      "metadata": {
        "id": "l46kRj1w3TnI",
        "colab_type": "code",
        "colab": {}
      },
      "source": [
        "z = torch.sum(z)"
      ],
      "execution_count": null,
      "outputs": []
    },
    {
      "cell_type": "code",
      "metadata": {
        "id": "3wnI1wgR3V3M",
        "colab_type": "code",
        "colab": {}
      },
      "source": [
        "z.backward()"
      ],
      "execution_count": null,
      "outputs": []
    },
    {
      "cell_type": "code",
      "metadata": {
        "id": "zaVrYvOY3iOo",
        "colab_type": "code",
        "colab": {
          "base_uri": "https://localhost:8080/",
          "height": 71
        },
        "outputId": "af554af8-5bb9-45b3-eada-8ce6aadc452d"
      },
      "source": [
        "z.grad"
      ],
      "execution_count": null,
      "outputs": [
        {
          "output_type": "stream",
          "text": [
            "/usr/local/lib/python3.6/dist-packages/torch/tensor.py:746: UserWarning: The .grad attribute of a Tensor that is not a leaf Tensor is being accessed. Its .grad attribute won't be populated during autograd.backward(). If you indeed want the gradient for a non-leaf Tensor, use .retain_grad() on the non-leaf Tensor. If you access the non-leaf Tensor by mistake, make sure you access the leaf Tensor instead. See github.com/pytorch/pytorch/pull/30531 for more informations.\n",
            "  warnings.warn(\"The .grad attribute of a Tensor that is not a leaf Tensor is being accessed. Its .grad \"\n"
          ],
          "name": "stderr"
        }
      ]
    },
    {
      "cell_type": "code",
      "metadata": {
        "id": "wBV7W0nu34QH",
        "colab_type": "code",
        "colab": {
          "base_uri": "https://localhost:8080/",
          "height": 68
        },
        "outputId": "168b0eef-2c58-4b6a-a7bd-ee6827434382"
      },
      "source": [
        "print(x.grad)"
      ],
      "execution_count": null,
      "outputs": [
        {
          "output_type": "stream",
          "text": [
            "tensor([[6., 6.],\n",
            "        [6., 6.],\n",
            "        [6., 6.]])\n"
          ],
          "name": "stdout"
        }
      ]
    },
    {
      "cell_type": "code",
      "metadata": {
        "id": "KqyrXl0E368e",
        "colab_type": "code",
        "colab": {}
      },
      "source": [
        "myInput = torch.rand((20,1), requires_grad = True)"
      ],
      "execution_count": null,
      "outputs": []
    },
    {
      "cell_type": "code",
      "metadata": {
        "id": "_08Uybj-8q26",
        "colab_type": "code",
        "colab": {}
      },
      "source": [
        "gTruth =  11 * myInput + 21   #y = mx +c "
      ],
      "execution_count": null,
      "outputs": []
    },
    {
      "cell_type": "code",
      "metadata": {
        "id": "xAsbpWu18vjN",
        "colab_type": "code",
        "colab": {}
      },
      "source": [
        "#let m = w\n",
        "#let c = b\n",
        "m = torch.rand((1), requires_grad=True)\n",
        "c = torch.rand((1), requires_grad=True)"
      ],
      "execution_count": null,
      "outputs": []
    },
    {
      "cell_type": "code",
      "metadata": {
        "id": "PJMjp6BuVbNc",
        "colab_type": "code",
        "colab": {
          "base_uri": "https://localhost:8080/",
          "height": 34
        },
        "outputId": "4162d106-212e-4915-d660-423b608f98b9"
      },
      "source": [
        "y = m\n",
        "print(y)"
      ],
      "execution_count": null,
      "outputs": [
        {
          "output_type": "stream",
          "text": [
            "tensor([0.6926], requires_grad=True)\n"
          ],
          "name": "stdout"
        }
      ]
    },
    {
      "cell_type": "code",
      "metadata": {
        "id": "wm8tuEWt-Lvi",
        "colab_type": "code",
        "colab": {
          "base_uri": "https://localhost:8080/",
          "height": 1000
        },
        "outputId": "333d185c-e752-4909-b94f-0597ff7fd792"
      },
      "source": [
        "#predict real m and c through learning \n",
        "# 1. find the prediction with random value\n",
        "# 2. Compute the loss\n",
        "# 4. Find the derivative\n",
        "# 5. update the value.\n",
        "\n",
        "myInput = torch.rand((20,1), requires_grad = True)\n",
        "lrate = 0.02\n",
        "#model = m * x + c\n",
        "x = myInput\n",
        "#y = gTruth\n",
        "\n",
        "gTruth =  23 * myInput - 67   #y = mx +c \n",
        "\n",
        "m = torch.rand((1), requires_grad=True)\n",
        "c = torch.rand((1), requires_grad=True)\n",
        "\n",
        "for i in range(100):\n",
        "\n",
        "  #x = torch.randn((20,1), requires_grad = True)\n",
        " \n",
        "  #if m.grad is not None :\n",
        "  #  m.grad.zero_()\n",
        "  #  c.grad.zero_()\n",
        "\n",
        "  predict = m * x + c\n",
        "  loss = torch.sum((gTruth - predict) ** 2)\n",
        "\n",
        "  #print(\"Iteration i  = \", i)\n",
        "  #if i == 0:\n",
        "  loss.backward(retain_graph=True)\n",
        "  #else :\n",
        "  #  loss.backward()\n",
        "  \n",
        "  #Get and update the Grad.\n",
        "  with torch.no_grad():\n",
        "    m -= lrate * m.grad \n",
        "    c -= lrate * c.grad\n",
        "\n",
        "    m.grad.zero_()\n",
        "    c.grad.zero_()\n",
        "\n",
        "  print(\"The updating m and c \", m.item() , c.item())\n",
        "  \n",
        "\n",
        "\n",
        "\n",
        "\n"
      ],
      "execution_count": null,
      "outputs": [
        {
          "output_type": "stream",
          "text": [
            "The updating m and c  -24.17470932006836 -42.44344711303711\n",
            "this is not none\n",
            "The updating m and c  -18.73781967163086 -38.9921760559082\n",
            "this is not none\n",
            "The updating m and c  -17.002883911132812 -40.96379852294922\n",
            "this is not none\n",
            "The updating m and c  -14.944761276245117 -42.20753860473633\n",
            "this is not none\n",
            "The updating m and c  -13.039434432983398 -43.463932037353516\n",
            "this is not none\n",
            "The updating m and c  -11.224156379699707 -44.64805221557617\n",
            "this is not none\n",
            "The updating m and c  -9.500985145568848 -45.77362823486328\n",
            "this is not none\n",
            "The updating m and c  -7.864494323730469 -46.84239959716797\n",
            "this is not none\n",
            "The updating m and c  -6.310413360595703 -47.85736846923828\n",
            "this is not none\n",
            "The updating m and c  -4.834583759307861 -48.82123565673828\n",
            "this is not none\n",
            "The updating m and c  -3.433063268661499 -49.736568450927734\n",
            "this is not none\n",
            "The updating m and c  -2.10211181640625 -50.605812072753906\n",
            "this is not none\n",
            "The updating m and c  -0.8381764888763428 -51.43128967285156\n",
            "this is not none\n",
            "The updating m and c  0.3621180057525635 -52.21520233154297\n",
            "this is not none\n",
            "The updating m and c  1.5019758939743042 -52.95964050292969\n",
            "this is not none\n",
            "The updating m and c  2.5844385623931885 -53.66659927368164\n",
            "this is not none\n",
            "The updating m and c  3.612398624420166 -54.33795928955078\n",
            "this is not none\n",
            "The updating m and c  4.588598728179932 -54.97551345825195\n",
            "this is not none\n",
            "The updating m and c  5.515644073486328 -55.58096694946289\n",
            "this is not none\n",
            "The updating m and c  6.3960113525390625 -56.15593719482422\n",
            "this is not none\n",
            "The updating m and c  7.232051849365234 -56.70195388793945\n",
            "this is not none\n",
            "The updating m and c  8.025996208190918 -57.22047805786133\n",
            "this is not none\n",
            "The updating m and c  8.779963493347168 -57.712894439697266\n",
            "this is not none\n",
            "The updating m and c  9.495966911315918 -58.18051528930664\n",
            "this is not none\n",
            "The updating m and c  10.175918579101562 -58.62459182739258\n",
            "this is not none\n",
            "The updating m and c  10.821632385253906 -59.04631042480469\n",
            "this is not none\n",
            "The updating m and c  11.434835433959961 -59.44679260253906\n",
            "this is not none\n",
            "The updating m and c  12.017162322998047 -59.827110290527344\n",
            "this is not none\n",
            "The updating m and c  12.570168495178223 -60.18827819824219\n",
            "this is not none\n",
            "The updating m and c  13.095328330993652 -60.5312614440918\n",
            "this is not none\n",
            "The updating m and c  13.594046592712402 -60.856971740722656\n",
            "this is not none\n",
            "The updating m and c  14.067652702331543 -61.166282653808594\n",
            "this is not none\n",
            "The updating m and c  14.517411231994629 -61.46002197265625\n",
            "this is not none\n",
            "The updating m and c  14.944524765014648 -61.73896789550781\n",
            "this is not none\n",
            "The updating m and c  15.350131034851074 -62.00387191772461\n",
            "this is not none\n",
            "The updating m and c  15.735315322875977 -62.255435943603516\n",
            "this is not none\n",
            "The updating m and c  16.101104736328125 -62.49433135986328\n",
            "this is not none\n",
            "The updating m and c  16.448476791381836 -62.72119903564453\n",
            "this is not none\n",
            "The updating m and c  16.778356552124023 -62.9366455078125\n",
            "this is not none\n",
            "The updating m and c  17.09162712097168 -63.14124298095703\n",
            "this is not none\n",
            "The updating m and c  17.389123916625977 -63.33553695678711\n",
            "this is not none\n",
            "The updating m and c  17.671642303466797 -63.520050048828125\n",
            "this is not none\n",
            "The updating m and c  17.93993377685547 -63.69527053833008\n",
            "this is not none\n",
            "The updating m and c  18.194717407226562 -63.861671447753906\n",
            "this is not none\n",
            "The updating m and c  18.43667221069336 -64.01969146728516\n",
            "this is not none\n",
            "The updating m and c  18.666444778442383 -64.16975402832031\n",
            "this is not none\n",
            "The updating m and c  18.884647369384766 -64.31226348876953\n",
            "this is not none\n",
            "The updating m and c  19.091861724853516 -64.44759368896484\n",
            "this is not none\n",
            "The updating m and c  19.28864288330078 -64.57611083984375\n",
            "this is not none\n",
            "The updating m and c  19.475515365600586 -64.69815826416016\n",
            "this is not none\n",
            "The updating m and c  19.652978897094727 -64.8140640258789\n",
            "this is not none\n",
            "The updating m and c  19.821508407592773 -64.92412567138672\n",
            "this is not none\n",
            "The updating m and c  19.981550216674805 -65.02864837646484\n",
            "this is not none\n",
            "The updating m and c  20.133533477783203 -65.12791442871094\n",
            "this is not none\n",
            "The updating m and c  20.27786636352539 -65.22217559814453\n",
            "this is not none\n",
            "The updating m and c  20.41493034362793 -65.31169128417969\n",
            "this is not none\n",
            "The updating m and c  20.545093536376953 -65.39669799804688\n",
            "this is not none\n",
            "The updating m and c  20.668701171875 -65.47743225097656\n",
            "this is not none\n",
            "The updating m and c  20.786087036132812 -65.55409240722656\n",
            "this is not none\n",
            "The updating m and c  20.897560119628906 -65.62689971923828\n",
            "this is not none\n",
            "The updating m and c  21.0034236907959 -65.69603729248047\n",
            "this is not none\n",
            "The updating m and c  21.103954315185547 -65.7616958618164\n",
            "this is not none\n",
            "The updating m and c  21.199424743652344 -65.82404327392578\n",
            "this is not none\n",
            "The updating m and c  21.29008674621582 -65.88325500488281\n",
            "this is not none\n",
            "The updating m and c  21.376184463500977 -65.93948364257812\n",
            "this is not none\n",
            "The updating m and c  21.457944869995117 -65.99288177490234\n",
            "this is not none\n",
            "The updating m and c  21.53558921813965 -66.04359436035156\n",
            "this is not none\n",
            "The updating m and c  21.609325408935547 -66.09175109863281\n",
            "this is not none\n",
            "The updating m and c  21.67934799194336 -66.13748168945312\n",
            "this is not none\n",
            "The updating m and c  21.745845794677734 -66.180908203125\n",
            "this is not none\n",
            "The updating m and c  21.808992385864258 -66.22215270996094\n",
            "this is not none\n",
            "The updating m and c  21.868961334228516 -66.26132202148438\n",
            "this is not none\n",
            "The updating m and c  21.925912857055664 -66.29851531982422\n",
            "this is not none\n",
            "The updating m and c  21.979995727539062 -66.33383178710938\n",
            "this is not none\n",
            "The updating m and c  22.031352996826172 -66.36737823486328\n",
            "this is not none\n",
            "The updating m and c  22.080127716064453 -66.39923095703125\n",
            "this is not none\n",
            "The updating m and c  22.12644386291504 -66.42948150634766\n",
            "this is not none\n",
            "The updating m and c  22.170429229736328 -66.45820617675781\n",
            "this is not none\n",
            "The updating m and c  22.212200164794922 -66.48548889160156\n",
            "this is not none\n",
            "The updating m and c  22.251867294311523 -66.51139831542969\n",
            "this is not none\n",
            "The updating m and c  22.289539337158203 -66.53599548339844\n",
            "this is not none\n",
            "The updating m and c  22.3253116607666 -66.55936431884766\n",
            "this is not none\n",
            "The updating m and c  22.359285354614258 -66.58155059814453\n",
            "this is not none\n",
            "The updating m and c  22.39154815673828 -66.60261535644531\n",
            "this is not none\n",
            "The updating m and c  22.422182083129883 -66.62262725830078\n",
            "this is not none\n",
            "The updating m and c  22.451276779174805 -66.6416244506836\n",
            "this is not none\n",
            "The updating m and c  22.478904724121094 -66.65967559814453\n",
            "this is not none\n",
            "The updating m and c  22.505144119262695 -66.67681121826172\n",
            "this is not none\n",
            "The updating m and c  22.530061721801758 -66.69308471679688\n",
            "this is not none\n",
            "The updating m and c  22.55372428894043 -66.70853424072266\n",
            "this is not none\n",
            "The updating m and c  22.57619285583496 -66.72321319580078\n",
            "this is not none\n",
            "The updating m and c  22.597532272338867 -66.73715209960938\n",
            "this is not none\n",
            "The updating m and c  22.617799758911133 -66.75038146972656\n",
            "this is not none\n",
            "The updating m and c  22.637042999267578 -66.76295471191406\n",
            "this is not none\n",
            "The updating m and c  22.655319213867188 -66.77488708496094\n",
            "this is not none\n",
            "The updating m and c  22.67267417907715 -66.78622436523438\n",
            "this is not none\n",
            "The updating m and c  22.68915557861328 -66.79698944091797\n",
            "this is not none\n",
            "The updating m and c  22.70480728149414 -66.80721282958984\n",
            "this is not none\n",
            "The updating m and c  22.71967315673828 -66.8169174194336\n",
            "this is not none\n",
            "The updating m and c  22.733787536621094 -66.82613372802734\n"
          ],
          "name": "stdout"
        }
      ]
    },
    {
      "cell_type": "code",
      "metadata": {
        "id": "JU4Z562YBa4s",
        "colab_type": "code",
        "colab": {}
      },
      "source": [
        "a =[1,2,3,4]\n",
        "b = map(lambda x:  x*2, a)"
      ],
      "execution_count": null,
      "outputs": []
    },
    {
      "cell_type": "code",
      "metadata": {
        "id": "6DpAUv6qnhJy",
        "colab_type": "code",
        "colab": {
          "base_uri": "https://localhost:8080/",
          "height": 34
        },
        "outputId": "6969f694-98dd-4da2-d054-92cd00f82ab8"
      },
      "source": [
        "print(type(b))"
      ],
      "execution_count": null,
      "outputs": [
        {
          "output_type": "stream",
          "text": [
            "<class 'map'>\n"
          ],
          "name": "stdout"
        }
      ]
    },
    {
      "cell_type": "code",
      "metadata": {
        "id": "PFUGhFoKnpyy",
        "colab_type": "code",
        "colab": {
          "base_uri": "https://localhost:8080/",
          "height": 85
        },
        "outputId": "d1b11c09-ca42-49bf-e2a9-548afb30a460"
      },
      "source": [
        "for i in b :\n",
        "  print(i)"
      ],
      "execution_count": null,
      "outputs": [
        {
          "output_type": "stream",
          "text": [
            "2\n",
            "4\n",
            "6\n",
            "8\n"
          ],
          "name": "stdout"
        }
      ]
    },
    {
      "cell_type": "code",
      "metadata": {
        "id": "pynlAgqBnwPa",
        "colab_type": "code",
        "colab": {
          "base_uri": "https://localhost:8080/",
          "height": 163
        },
        "outputId": "c029cd17-22de-4710-ee76-dc1fd5d13d2f"
      },
      "source": [
        "b.items()"
      ],
      "execution_count": null,
      "outputs": [
        {
          "output_type": "error",
          "ename": "AttributeError",
          "evalue": "ignored",
          "traceback": [
            "\u001b[0;31m---------------------------------------------------------------------------\u001b[0m",
            "\u001b[0;31mAttributeError\u001b[0m                            Traceback (most recent call last)",
            "\u001b[0;32m<ipython-input-104-3f3b0acce93f>\u001b[0m in \u001b[0;36m<module>\u001b[0;34m()\u001b[0m\n\u001b[0;32m----> 1\u001b[0;31m \u001b[0mb\u001b[0m\u001b[0;34m.\u001b[0m\u001b[0mitems\u001b[0m\u001b[0;34m(\u001b[0m\u001b[0;34m)\u001b[0m\u001b[0;34m\u001b[0m\u001b[0;34m\u001b[0m\u001b[0m\n\u001b[0m",
            "\u001b[0;31mAttributeError\u001b[0m: 'map' object has no attribute 'items'"
          ]
        }
      ]
    },
    {
      "cell_type": "code",
      "metadata": {
        "id": "j7UeYLbMooiL",
        "colab_type": "code",
        "colab": {}
      },
      "source": [
        "import numpy as np"
      ],
      "execution_count": null,
      "outputs": []
    },
    {
      "cell_type": "code",
      "metadata": {
        "id": "dMHM9t4jwIQo",
        "colab_type": "code",
        "colab": {}
      },
      "source": [
        "a = torch.ones(3, 2, 4)"
      ],
      "execution_count": null,
      "outputs": []
    },
    {
      "cell_type": "code",
      "metadata": {
        "id": "jwN0aOz5wNek",
        "colab_type": "code",
        "colab": {
          "base_uri": "https://localhost:8080/",
          "height": 34
        },
        "outputId": "dc38eafc-8d91-4477-ab95-12ad737560ca"
      },
      "source": [
        "a.size(\n",
        "    \n",
        ")"
      ],
      "execution_count": null,
      "outputs": [
        {
          "output_type": "execute_result",
          "data": {
            "text/plain": [
              "torch.Size([3, 2, 1])"
            ]
          },
          "metadata": {
            "tags": []
          },
          "execution_count": 107
        }
      ]
    },
    {
      "cell_type": "code",
      "metadata": {
        "id": "5gDC3UWfwQts",
        "colab_type": "code",
        "colab": {
          "base_uri": "https://localhost:8080/",
          "height": 34
        },
        "outputId": "00437275-c834-4d9d-bf99-954e966953ec"
      },
      "source": [
        "a.shape"
      ],
      "execution_count": null,
      "outputs": [
        {
          "output_type": "execute_result",
          "data": {
            "text/plain": [
              "torch.Size([3, 2, 1])"
            ]
          },
          "metadata": {
            "tags": []
          },
          "execution_count": 108
        }
      ]
    },
    {
      "cell_type": "code",
      "metadata": {
        "id": "VE_kdCXOwVM9",
        "colab_type": "code",
        "colab": {
          "base_uri": "https://localhost:8080/",
          "height": 153
        },
        "outputId": "49a6128c-911c-468e-9e2e-9b2457520c29"
      },
      "source": [
        "print(a)"
      ],
      "execution_count": null,
      "outputs": [
        {
          "output_type": "stream",
          "text": [
            "tensor([[[1., 1., 1., 1.],\n",
            "         [1., 1., 1., 1.]],\n",
            "\n",
            "        [[1., 1., 1., 1.],\n",
            "         [1., 1., 1., 1.]],\n",
            "\n",
            "        [[1., 1., 1., 1.],\n",
            "         [1., 1., 1., 1.]]])\n"
          ],
          "name": "stdout"
        }
      ]
    },
    {
      "cell_type": "code",
      "metadata": {
        "id": "jjKNgMjPwZBr",
        "colab_type": "code",
        "colab": {}
      },
      "source": [
        ""
      ],
      "execution_count": null,
      "outputs": []
    },
    {
      "cell_type": "markdown",
      "metadata": {
        "id": "AMLjX9JOMSbK",
        "colab_type": "text"
      },
      "source": [
        "# MultiDimension"
      ]
    },
    {
      "cell_type": "code",
      "metadata": {
        "id": "YS6IG0AoMVvD",
        "colab_type": "code",
        "colab": {}
      },
      "source": [
        "import torch"
      ],
      "execution_count": null,
      "outputs": []
    },
    {
      "cell_type": "code",
      "metadata": {
        "id": "7oyaloxwMXJN",
        "colab_type": "code",
        "colab": {}
      },
      "source": [
        "x = torch.ones(3,2,4)"
      ],
      "execution_count": null,
      "outputs": []
    },
    {
      "cell_type": "code",
      "metadata": {
        "id": "9YJY918IMcmb",
        "colab_type": "code",
        "colab": {
          "base_uri": "https://localhost:8080/",
          "height": 153
        },
        "outputId": "d3ab52a8-75bb-42f3-b2d2-99eefb2bc53a"
      },
      "source": [
        "print(x)"
      ],
      "execution_count": null,
      "outputs": [
        {
          "output_type": "stream",
          "text": [
            "tensor([[[1., 1., 1., 1.],\n",
            "         [1., 1., 1., 1.]],\n",
            "\n",
            "        [[1., 1., 1., 1.],\n",
            "         [1., 1., 1., 1.]],\n",
            "\n",
            "        [[1., 1., 1., 1.],\n",
            "         [1., 1., 1., 1.]]])\n"
          ],
          "name": "stdout"
        }
      ]
    },
    {
      "cell_type": "code",
      "metadata": {
        "id": "1XS8lt9rMiiL",
        "colab_type": "code",
        "colab": {
          "base_uri": "https://localhost:8080/",
          "height": 34
        },
        "outputId": "ba7c7822-81b5-465c-f9ea-75301843d2db"
      },
      "source": [
        "x.shape"
      ],
      "execution_count": null,
      "outputs": [
        {
          "output_type": "execute_result",
          "data": {
            "text/plain": [
              "torch.Size([3, 2, 4])"
            ]
          },
          "metadata": {
            "tags": []
          },
          "execution_count": 134
        }
      ]
    },
    {
      "cell_type": "code",
      "metadata": {
        "id": "3M_ErDOoNT4X",
        "colab_type": "code",
        "colab": {
          "base_uri": "https://localhost:8080/",
          "height": 34
        },
        "outputId": "9f0d0342-48d4-4108-e88a-9e71a1495c28"
      },
      "source": [
        "x.size()"
      ],
      "execution_count": null,
      "outputs": [
        {
          "output_type": "execute_result",
          "data": {
            "text/plain": [
              "torch.Size([3, 2, 4])"
            ]
          },
          "metadata": {
            "tags": []
          },
          "execution_count": 135
        }
      ]
    },
    {
      "cell_type": "code",
      "metadata": {
        "id": "gxJfQIeBNVk-",
        "colab_type": "code",
        "colab": {}
      },
      "source": [
        "x = torch.ones(2, 4)"
      ],
      "execution_count": null,
      "outputs": []
    },
    {
      "cell_type": "code",
      "metadata": {
        "id": "2CVAndG6Nc1d",
        "colab_type": "code",
        "colab": {
          "base_uri": "https://localhost:8080/",
          "height": 51
        },
        "outputId": "a363abc0-88cb-4936-b800-d3dfbb705ddb"
      },
      "source": [
        "print(x)"
      ],
      "execution_count": null,
      "outputs": [
        {
          "output_type": "stream",
          "text": [
            "tensor([[1., 1., 1., 1.],\n",
            "        [1., 1., 1., 1.]])\n"
          ],
          "name": "stdout"
        }
      ]
    },
    {
      "cell_type": "code",
      "metadata": {
        "id": "iJlfjYwMNd6s",
        "colab_type": "code",
        "colab": {
          "base_uri": "https://localhost:8080/",
          "height": 51
        },
        "outputId": "fafc332c-459f-403c-c766-84ef0173aae7"
      },
      "source": [
        "x.sum(-1).unsqueeze(-1)"
      ],
      "execution_count": null,
      "outputs": [
        {
          "output_type": "execute_result",
          "data": {
            "text/plain": [
              "tensor([[4.],\n",
              "        [4.]])"
            ]
          },
          "metadata": {
            "tags": []
          },
          "execution_count": 138
        }
      ]
    },
    {
      "cell_type": "code",
      "metadata": {
        "id": "rV27chA3Niz_",
        "colab_type": "code",
        "colab": {}
      },
      "source": [
        "y = x.sum(-2)"
      ],
      "execution_count": null,
      "outputs": []
    },
    {
      "cell_type": "code",
      "metadata": {
        "id": "zaz6SyNoPEJA",
        "colab_type": "code",
        "colab": {}
      },
      "source": [
        ""
      ],
      "execution_count": null,
      "outputs": []
    },
    {
      "cell_type": "code",
      "metadata": {
        "id": "o3oDE3nxPHFh",
        "colab_type": "code",
        "colab": {}
      },
      "source": [
        "x = torch.randn(3,4)"
      ],
      "execution_count": null,
      "outputs": []
    },
    {
      "cell_type": "code",
      "metadata": {
        "id": "_PT6e15Om9zK",
        "colab_type": "code",
        "colab": {
          "base_uri": "https://localhost:8080/",
          "height": 34
        },
        "outputId": "4da4b6b5-9ca5-47e5-8043-d1348b1e48fa"
      },
      "source": [
        "x.argmax(dim=1)"
      ],
      "execution_count": null,
      "outputs": [
        {
          "output_type": "execute_result",
          "data": {
            "text/plain": [
              "tensor([2, 3, 0])"
            ]
          },
          "metadata": {
            "tags": []
          },
          "execution_count": 147
        }
      ]
    },
    {
      "cell_type": "code",
      "metadata": {
        "id": "P4G5TUVBnC76",
        "colab_type": "code",
        "colab": {
          "base_uri": "https://localhost:8080/",
          "height": 68
        },
        "outputId": "9e28fa0d-9366-443e-e78b-80cdc1651a34"
      },
      "source": [
        "print(x)"
      ],
      "execution_count": null,
      "outputs": [
        {
          "output_type": "stream",
          "text": [
            "tensor([[-1.0554, -0.8885, -0.0330, -0.3009],\n",
            "        [-0.5091, -0.0368,  0.0069,  1.9350],\n",
            "        [ 1.1125, -0.5307,  0.2479, -1.2588]])\n"
          ],
          "name": "stdout"
        }
      ]
    },
    {
      "cell_type": "code",
      "metadata": {
        "id": "xtAupzionFFT",
        "colab_type": "code",
        "colab": {}
      },
      "source": [
        ""
      ],
      "execution_count": null,
      "outputs": []
    }
  ]
}